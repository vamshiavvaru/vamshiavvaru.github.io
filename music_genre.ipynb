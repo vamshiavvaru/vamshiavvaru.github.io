{
  "nbformat": 4,
  "nbformat_minor": 0,
  "metadata": {
    "colab": {
      "name": "Untitled1.ipynb",
      "provenance": [],
      "collapsed_sections": [],
      "authorship_tag": "ABX9TyMMjFWx8I0kIfo57P0XIoVP",
      "include_colab_link": true
    },
    "kernelspec": {
      "name": "python3",
      "display_name": "Python 3"
    },
    "language_info": {
      "name": "python"
    }
  },
  "cells": [
    {
      "cell_type": "markdown",
      "metadata": {
        "id": "view-in-github",
        "colab_type": "text"
      },
      "source": [
        "<a href=\"https://colab.research.google.com/github/vamshiavvaru/vamshiavvaru.github.io/blob/main/music_genre.ipynb\" target=\"_parent\"><img src=\"https://colab.research.google.com/assets/colab-badge.svg\" alt=\"Open In Colab\"/></a>"
      ]
    },
    {
      "cell_type": "code",
      "metadata": {
        "colab": {
          "base_uri": "https://localhost:8080/"
        },
        "id": "M0wLX50kyMBQ",
        "outputId": "dcc49aae-a92a-44c4-f4de-c92fcc7e9109"
      },
      "source": [
        "#tensorflow and tf.keras\n",
        "\n",
        "import tensorflow as tf\n",
        " \n",
        "#Helper Libraries\n",
        "\n",
        "import numpy as np\n",
        "import matplotlib.pyplot as py\n",
        "from python_speech_features import mfcc\n",
        "import scipy.io.wavfile as wav\n",
        "\n",
        "from tempfile import TemporaryFile\n",
        "\n",
        "import os\n",
        "import pickle\n",
        "import random\n",
        "import operator\n",
        "import math\n",
        "\n",
        "print(tf.__version__)"
      ],
      "execution_count": null,
      "outputs": [
        {
          "output_type": "stream",
          "text": [
            "2.4.1\n"
          ],
          "name": "stdout"
        }
      ]
    },
    {
      "cell_type": "code",
      "metadata": {
        "id": "LS_o6-I5Q8nM"
      },
      "source": [
        "def getNeighbours(trainingSet, instance, k):\n",
        "  distances = []\n",
        "  for x in range(len(trainingSet)):\n",
        "    dist = distance(trainingSet[x], instance, k) + distance(instance, trainingSet[x], k)"
      ],
      "execution_count": 1,
      "outputs": []
    }
  ]
}